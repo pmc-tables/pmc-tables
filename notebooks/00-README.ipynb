{
 "cells": [
  {
   "cell_type": "markdown",
   "metadata": {},
   "source": [
    "# README\n",
    "\n",
    "### Dashboard\n",
    "\n",
    "Install NCBI [Entrez Programming Utilities](https://www.ncbi.nlm.nih.gov/books/NBK179288/).\n",
    "\n",
    "```bash\n",
    "sh -c \"$(curl -fsSL ftp://ftp.ncbi.nlm.nih.gov/entrez/entrezdirect/install-edirect.sh)\"\n",
    "```\n",
    "\n",
    "Find all article ids matching a given query.\n",
    "\n",
    "```bash\n",
    "./esearch -db pubmed -query \"gpcr\" | ./elink -related | ./efetch -format uid\n",
    "```\n",
    "\n",
    "Use [codejail](https://github.com/edx/codejail) to restrict the ability of users to do nefarious things from within their code."
   ]
  },
  {
   "cell_type": "code",
   "execution_count": null,
   "metadata": {},
   "outputs": [],
   "source": []
  }
 ],
 "metadata": {
  "kernelspec": {
   "display_name": "Python 3",
   "language": "python",
   "name": "python3"
  },
  "language_info": {
   "codemirror_mode": {
    "name": "ipython",
    "version": 3
   },
   "file_extension": ".py",
   "mimetype": "text/x-python",
   "name": "python",
   "nbconvert_exporter": "python",
   "pygments_lexer": "ipython3",
   "version": "3.7.6"
  }
 },
 "nbformat": 4,
 "nbformat_minor": 4
}
