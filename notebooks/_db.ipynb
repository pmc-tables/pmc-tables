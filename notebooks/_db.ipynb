{
 "cells": [
  {
   "cell_type": "code",
   "execution_count": null,
   "metadata": {
    "collapsed": true
   },
   "outputs": [],
   "source": [
    "try:\n",
    "    assert _IMPORTS_LOADED\n",
    "except:\n",
    "    %run _imports.ipynb"
   ]
  },
  {
   "cell_type": "code",
   "execution_count": null,
   "metadata": {
    "code_folding": [],
    "collapsed": true
   },
   "outputs": [],
   "source": [
    "# Database options\n",
    "os.environ['DB_TYPE'] = CONFIG.get('DB_TYPE', 'MySQL')\n",
    "os.environ['DB_DATA_DIR'] = op.abspath('mysqld')\n",
    "os.environ['DB_SOCKET'] = op.abspath(op.join(tempfile.gettempdir(), os.environ['DB_SCHEMA'], 'mysql.sock'))"
   ]
  },
  {
   "cell_type": "code",
   "execution_count": null,
   "metadata": {
    "collapsed": true
   },
   "outputs": [],
   "source": [
    "os.makedirs(os.environ['DB_DATA_DIR'], exist_ok=True)\n",
    "os.makedirs(op.dirname(os.environ['DB_SOCKET']), exist_ok=True)"
   ]
  },
  {
   "cell_type": "code",
   "execution_count": null,
   "metadata": {
    "collapsed": true
   },
   "outputs": [],
   "source": [
    "logging.getLogger().setLevel(logging.DEBUG)"
   ]
  },
  {
   "cell_type": "code",
   "execution_count": null,
   "metadata": {
    "scrolled": false
   },
   "outputs": [],
   "source": [
    "db_daemon = odbo.start_database(\n",
    "    os.environ['DB_TYPE'], os.environ['DB_DATA_DIR'], os.environ['DB_SOCKET'], os.environ['DB_PORT'])"
   ]
  },
  {
   "cell_type": "code",
   "execution_count": null,
   "metadata": {},
   "outputs": [],
   "source": [
    "db_daemon.get_connection_string(os.environ['DB_SCHEMA'])"
   ]
  },
  {
   "cell_type": "code",
   "execution_count": null,
   "metadata": {
    "scrolled": false
   },
   "outputs": [],
   "source": [
    "# Start a database connection\n",
    "db = odbo.MySQLConnection(\n",
    "    connection_string=db_daemon.get_connection_string(os.environ['DB_SCHEMA']),\n",
    "    shared_folder=os.environ['DB_TEMPDIR'],\n",
    "    storage_host=None,\n",
    "    datadir=db_daemon.datadir,\n",
    "    echo=False,\n",
    "    db_engine='MyISAM',\n",
    ")"
   ]
  },
  {
   "cell_type": "code",
   "execution_count": null,
   "metadata": {},
   "outputs": [],
   "source": [
    "# Start a database connection\n",
    "db_remote = odbo.MySQLConnection(\n",
    "    os.environ['DATAPKG_CONNECTION_STRING'], \n",
    "    shared_folder=os.environ['DB_TEMPDIR'],\n",
    "    storage_host=None,\n",
    "    datadir=None,\n",
    "    echo=False,\n",
    "    db_engine='MyISAM'\n",
    ")"
   ]
  },
  {
   "cell_type": "code",
   "execution_count": null,
   "metadata": {},
   "outputs": [],
   "source": [
    "os.environ['DB_PORT']"
   ]
  }
 ],
 "metadata": {
  "anaconda-cloud": {},
  "hide_input": false,
  "kernelspec": {
   "display_name": "Python [default]",
   "language": "python",
   "name": "python3"
  },
  "language_info": {
   "codemirror_mode": {
    "name": "ipython",
    "version": 3
   },
   "file_extension": ".py",
   "mimetype": "text/x-python",
   "name": "python",
   "nbconvert_exporter": "python",
   "pygments_lexer": "ipython3",
   "version": "3.6.4"
  },
  "nav_menu": {},
  "toc": {
   "base_numbering": 1,
   "nav_menu": {
    "height": "259px",
    "width": "303px"
   },
   "number_sections": false,
   "sideBar": false,
   "skip_h1_title": false,
   "title_cell": "Table of Contents",
   "title_sidebar": "Contents",
   "toc_cell": false,
   "toc_position": {
    "height": "419px",
    "left": "1652.98px",
    "right": "1915px",
    "top": "128.976px",
    "width": "241px"
   },
   "toc_section_display": "block",
   "toc_window_display": true
  },
  "toc_position": {
   "height": "519px",
   "left": "92.9965px",
   "right": "20px",
   "top": "69.9931px",
   "width": "230px"
  }
 },
 "nbformat": 4,
 "nbformat_minor": 1
}
